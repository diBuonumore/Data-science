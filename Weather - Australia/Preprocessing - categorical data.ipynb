{
 "cells": [
  {
   "cell_type": "code",
   "execution_count": 1,
   "id": "3177098f",
   "metadata": {},
   "outputs": [],
   "source": [
    "import pandas as pd\n",
    "import seaborn as sns\n",
    "import numpy as np\n",
    "import matplotlib.pyplot as plt\n",
    "\n",
    "raw_data=pd.read_csv(\"Weather Data.csv\")\n",
    "weather_data = raw_data.copy()\n",
    "\n",
    "#remove ID column\n",
    "weather_data = weather_data.drop(['row ID'],axis=1)\n",
    "\n",
    "#remove rows with null values from WindGustDir\n",
    "weather_data = weather_data.dropna(subset=['WindGustDir'])\n",
    "\n",
    "#fill rows with null values with the mode for WindDir9am and WindDir3pm\n",
    "mode_winddir9am = weather_data['WindDir9am'].mode().iloc[0]\n",
    "mode_winddir3pm = weather_data['WindDir3pm'].mode().iloc[0]\n",
    "weather_data['WindDir9am'] = weather_data['WindDir9am'].fillna(mode_winddir9am)\n",
    "weather_data['WindDir3pm'] = weather_data['WindDir3pm'].fillna(mode_winddir3pm)\n",
    "\n",
    "#Cloud9am\n",
    "missing_indices = weather_data['Cloud9am'].isnull()\n",
    "num_missing = missing_indices.sum()\n",
    "non_missing_data = weather_data.loc[~missing_indices,'Cloud9am']\n",
    "probabilities = non_missing_data.value_counts(normalize=True) # the relative frequencies (probabilities) instead of the actual counts.\n",
    "random_values = np.random.choice(probabilities.index, size=num_missing, p=probabilities.values)\n",
    "weather_data.loc[missing_indices,'Cloud9am'] = random_values\n",
    "\n",
    "#Cloud3pm\n",
    "missing_indices = weather_data['Cloud3pm'].isnull()\n",
    "num_missing = missing_indices.sum()\n",
    "non_missing_data = weather_data.loc[~missing_indices,'Cloud3pm']\n",
    "probabilities = non_missing_data.value_counts(normalize=True) # the relative frequencies (probabilities) instead of the actual counts.\n",
    "random_values = np.random.choice(probabilities.index, size=num_missing, p=probabilities.values)\n",
    "weather_data.loc[missing_indices,'Cloud3pm'] = random_values\n",
    "\n",
    "#RainToday\n",
    "weather_data = weather_data[weather_data['RainToday'].notnull()]\n",
    "\n",
    "#RainTomorrow - completed\n",
    "\n",
    "weather_data.to_csv('Preprocessing_of_categorical_variables.csv',index=False)"
   ]
  },
  {
   "cell_type": "code",
   "execution_count": 2,
   "id": "421d98ec",
   "metadata": {
    "scrolled": true
   },
   "outputs": [
    {
     "data": {
      "text/plain": [
       "Location              0\n",
       "State/Province        0\n",
       "Latitude              0\n",
       "Longitute             0\n",
       "MinTemp              80\n",
       "MaxTemp              38\n",
       "Rainfall              0\n",
       "Evaporation       38684\n",
       "Sunshine          43225\n",
       "WindGustDir           0\n",
       "WindGustSpeed         0\n",
       "WindDir9am            0\n",
       "WindDir3pm            0\n",
       "WindSpeed9am         79\n",
       "WindSpeed3pm        162\n",
       "Humidity9am         830\n",
       "Humidity3pm        1246\n",
       "Pressure9am        6949\n",
       "Pressure3pm        6963\n",
       "Cloud9am              0\n",
       "Cloud3pm              0\n",
       "Temp9am             266\n",
       "Temp3pm             692\n",
       "RainToday             0\n",
       "RainTomorrow          0\n",
       "dtype: int64"
      ]
     },
     "execution_count": 2,
     "metadata": {},
     "output_type": "execute_result"
    }
   ],
   "source": [
    "weather_data.isnull().sum()"
   ]
  },
  {
   "cell_type": "code",
   "execution_count": 3,
   "id": "34e44c9c",
   "metadata": {},
   "outputs": [
    {
     "data": {
      "text/plain": [
       "(92137, 25)"
      ]
     },
     "execution_count": 3,
     "metadata": {},
     "output_type": "execute_result"
    }
   ],
   "source": [
    "weather_data.shape"
   ]
  }
 ],
 "metadata": {
  "kernelspec": {
   "display_name": "Python 3 (ipykernel)",
   "language": "python",
   "name": "python3"
  },
  "language_info": {
   "codemirror_mode": {
    "name": "ipython",
    "version": 3
   },
   "file_extension": ".py",
   "mimetype": "text/x-python",
   "name": "python",
   "nbconvert_exporter": "python",
   "pygments_lexer": "ipython3",
   "version": "3.10.9"
  }
 },
 "nbformat": 4,
 "nbformat_minor": 5
}
